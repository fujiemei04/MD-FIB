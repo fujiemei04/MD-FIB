{
 "cells": [
  {
   "cell_type": "code",
   "execution_count": 58,
   "outputs": [
    {
     "data": {
      "text/plain": "     FG%  3PA    2P%   eFG%  ORB  DRB   TRB  BLK  Proximity\n0  0.439  2.1  0.468  0.486  2.0  4.5   6.5  0.6          0\n1  0.547  0.0  0.548  0.547  4.6  5.4  10.0  0.8          0\n2  0.557  0.1  0.562  0.557  2.4  7.6  10.1  0.8          0\n3  0.402  1.5  0.560  0.424  1.0  1.7   2.7  0.3          0\n4  0.550  1.0  0.578  0.566  1.6  3.9   5.5  1.0          0",
      "text/html": "<div>\n<style scoped>\n    .dataframe tbody tr th:only-of-type {\n        vertical-align: middle;\n    }\n\n    .dataframe tbody tr th {\n        vertical-align: top;\n    }\n\n    .dataframe thead th {\n        text-align: right;\n    }\n</style>\n<table border=\"1\" class=\"dataframe\">\n  <thead>\n    <tr style=\"text-align: right;\">\n      <th></th>\n      <th>FG%</th>\n      <th>3PA</th>\n      <th>2P%</th>\n      <th>eFG%</th>\n      <th>ORB</th>\n      <th>DRB</th>\n      <th>TRB</th>\n      <th>BLK</th>\n      <th>Proximity</th>\n    </tr>\n  </thead>\n  <tbody>\n    <tr>\n      <th>0</th>\n      <td>0.439</td>\n      <td>2.1</td>\n      <td>0.468</td>\n      <td>0.486</td>\n      <td>2.0</td>\n      <td>4.5</td>\n      <td>6.5</td>\n      <td>0.6</td>\n      <td>0</td>\n    </tr>\n    <tr>\n      <th>1</th>\n      <td>0.547</td>\n      <td>0.0</td>\n      <td>0.548</td>\n      <td>0.547</td>\n      <td>4.6</td>\n      <td>5.4</td>\n      <td>10.0</td>\n      <td>0.8</td>\n      <td>0</td>\n    </tr>\n    <tr>\n      <th>2</th>\n      <td>0.557</td>\n      <td>0.1</td>\n      <td>0.562</td>\n      <td>0.557</td>\n      <td>2.4</td>\n      <td>7.6</td>\n      <td>10.1</td>\n      <td>0.8</td>\n      <td>0</td>\n    </tr>\n    <tr>\n      <th>3</th>\n      <td>0.402</td>\n      <td>1.5</td>\n      <td>0.560</td>\n      <td>0.424</td>\n      <td>1.0</td>\n      <td>1.7</td>\n      <td>2.7</td>\n      <td>0.3</td>\n      <td>0</td>\n    </tr>\n    <tr>\n      <th>4</th>\n      <td>0.550</td>\n      <td>1.0</td>\n      <td>0.578</td>\n      <td>0.566</td>\n      <td>1.6</td>\n      <td>3.9</td>\n      <td>5.5</td>\n      <td>1.0</td>\n      <td>0</td>\n    </tr>\n  </tbody>\n</table>\n</div>"
     },
     "execution_count": 58,
     "metadata": {},
     "output_type": "execute_result"
    }
   ],
   "source": [
    "#Load of ionosphere data set\n",
    "import matplotlib.pyplot as  plt\n",
    "import pandas as pd\n",
    "import numpy as np\n",
    "\n",
    "url = \"final_data.csv\"\n",
    "df= pd.read_csv(url)\n",
    "df.head()"
   ],
   "metadata": {
    "collapsed": false,
    "ExecuteTime": {
     "start_time": "2023-05-22T20:51:56.254219Z",
     "end_time": "2023-05-22T20:51:56.305725Z"
    }
   }
  },
  {
   "cell_type": "code",
   "execution_count": 59,
   "outputs": [
    {
     "name": "stdout",
     "output_type": "stream",
     "text": [
      "(794, 8)\n",
      "(794,)\n"
     ]
    }
   ],
   "source": [
    "X = df.drop('Proximity', axis=1)\n",
    "y = df['Proximity']\n",
    "\n",
    "print(X.shape)\n",
    "print(y.shape)"
   ],
   "metadata": {
    "collapsed": false,
    "ExecuteTime": {
     "start_time": "2023-05-22T20:51:57.152354Z",
     "end_time": "2023-05-22T20:51:57.170360Z"
    }
   }
  },
  {
   "cell_type": "markdown",
   "source": [
    "### Normal dataset cross validation (testing)"
   ],
   "metadata": {
    "collapsed": false
   }
  },
  {
   "cell_type": "code",
   "execution_count": 60,
   "outputs": [
    {
     "name": "stdout",
     "output_type": "stream",
     "text": [
      "[[169 113]\n",
      " [ 52 460]]\n",
      "0.792191435768262\n"
     ]
    },
    {
     "data": {
      "text/plain": "<Figure size 250x250 with 1 Axes>",
      "image/png": "[encoded data removed]"
     },
     "metadata": {},
     "output_type": "display_data"
    },
    {
     "name": "stdout",
     "output_type": "stream",
     "text": [
      "              precision    recall  f1-score   support\n",
      "\n",
      "           0       0.76      0.60      0.67       282\n",
      "           1       0.80      0.90      0.85       512\n",
      "\n",
      "    accuracy                           0.79       794\n",
      "   macro avg       0.78      0.75      0.76       794\n",
      "weighted avg       0.79      0.79      0.79       794\n",
      "\n"
     ]
    }
   ],
   "source": [
    "# Train on data. No parameters to adjust\n",
    "import sklearn\n",
    "from sklearn.naive_bayes import GaussianNB       ### Because continuous data\n",
    "from sklearn.model_selection import StratifiedKFold\n",
    "from sklearn.model_selection import cross_val_score, train_test_split\n",
    "import sklearn.neighbors as nb\n",
    "from sklearn.model_selection import cross_val_predict\n",
    "from sklearn.metrics import accuracy_score\n",
    "from sklearn.metrics import confusion_matrix\n",
    "from sklearn.metrics import classification_report\n",
    "\n",
    "cv = StratifiedKFold(n_splits=10, random_state=5, shuffle=True)\n",
    "\n",
    "gnb = GaussianNB()\n",
    "cv_scores = cross_val_score(gnb,X=X,y=y,cv=cv)\n",
    "np.mean(cv_scores)\n",
    "\n",
    "predicted = cross_val_predict(GaussianNB(), X=X, y=y,  cv=cv)\n",
    "\n",
    "print(confusion_matrix(y, predicted))\n",
    "print(accuracy_score(y, predicted))\n",
    "\n",
    "confmat = sklearn.metrics.confusion_matrix(y, predicted)\n",
    "\n",
    "fig, ax = plt.subplots(figsize=(2.5, 2.5))\n",
    "ax.matshow(confmat, cmap=plt.cm.Blues, alpha=0.3)\n",
    "for i in range(confmat.shape[0]):\n",
    "    for j in range(confmat.shape[1]):\n",
    "        ax.text(x=j, y=i, s=confmat[i, j], va='center', ha='center',fontsize=10)\n",
    "\n",
    "plt.xlabel('Predicted label')\n",
    "plt.ylabel('True label')\n",
    "\n",
    "plt.tight_layout()\n",
    "plt.savefig('ConMatrixNB_cross.png', dpi=600)\n",
    "plt.show()\n",
    "\n",
    "print(classification_report(y, predicted))\n"
   ],
   "metadata": {
    "collapsed": false,
    "ExecuteTime": {
     "start_time": "2023-05-22T20:51:58.959559Z",
     "end_time": "2023-05-22T20:51:59.342773Z"
    }
   }
  },
  {
   "cell_type": "markdown",
   "source": [
    "## Adjusting probability threshold (testing)"
   ],
   "metadata": {
    "collapsed": false
   }
  },
  {
   "cell_type": "code",
   "execution_count": 61,
   "outputs": [],
   "source": [
    "(X_train, X_test,  y_train, y_test) = train_test_split(X, y, test_size=.3, random_state=5)"
   ],
   "metadata": {
    "collapsed": false,
    "ExecuteTime": {
     "start_time": "2023-05-22T20:52:01.773158Z",
     "end_time": "2023-05-22T20:52:01.788128Z"
    }
   }
  },
  {
   "cell_type": "code",
   "execution_count": 62,
   "outputs": [
    {
     "name": "stdout",
     "output_type": "stream",
     "text": [
      "Selected threshold in 10-fold cross validation: 0.43038913682535906\n",
      "\n"
     ]
    }
   ],
   "source": [
    "from sklearn.metrics import f1_score\n",
    "from sklearn.model_selection import StratifiedKFold\n",
    "\n",
    "def filterp(th,ProbClass1):\n",
    "    \"\"\" Given a treshold \"th\" and a set of probabilies of belonging to class 1 \"ProbClass1\", return predictions \"\"\"\n",
    "    y=np.zeros(ProbClass1.shape[0])\n",
    "    for i,v in enumerate(ProbClass1):\n",
    "        if ProbClass1[i]>th:\n",
    "            y[i]=1\n",
    "    return y\n",
    "\n",
    "clf = GaussianNB()\n",
    "lth=[]\n",
    "\n",
    "# We do a 10 fold crossvalidation with 10 iterations\n",
    "kf = StratifiedKFold(n_splits=10, shuffle=True, random_state=5)\n",
    "\n",
    "for train_index, test_index in kf.split(X_train, y_train):\n",
    "    X_train2, X_test2 = X.iloc[train_index], X.iloc[test_index]\n",
    "    y_train2, y_test2 = y.iloc[train_index], y.iloc[test_index]\n",
    "\n",
    "    # Train with the training data of the iteration\n",
    "    clf.fit(X_train2, y_train2)\n",
    "    # Obtaining probablity predictions for test data of the iterarion\n",
    "    probs = clf.predict_proba(X_test2)\n",
    "    # Collect probabilities of belonging to class 1\n",
    "    ProbClass1 = probs[:,1]\n",
    "    # Sort probabilities and generate pairs (threshold, f1-for-that-threshold)\n",
    "    res = np.array([[th,f1_score(y_test2,filterp(th,ProbClass1),pos_label=1)] for th in np.sort(ProbClass1)])\n",
    "\n",
    "    # Uncomment the following lines if you want to plot at each iteration how f1-score evolves increasing the threshold\n",
    "    #plt.plot(res[:,0],res[:,1])\n",
    "    #plt.show()\n",
    "\n",
    "    # Find the threshold that has maximum value of f1-score\n",
    "    maxF = np.max(res[:,1])\n",
    "    pl = np.argmax(res[:,1])\n",
    "    optimal_th = res[pl,0]\n",
    "\n",
    "    # Store the optimal threshold found for the current iteration\n",
    "    lth.append(optimal_th)\n",
    "\n",
    "# Compute the average threshold for all 10 iterations\n",
    "thdef = np.mean(lth)\n",
    "print(\"Selected threshold in 10-fold cross validation:\", thdef)\n",
    "print()"
   ],
   "metadata": {
    "collapsed": false,
    "ExecuteTime": {
     "start_time": "2023-05-22T20:52:02.404185Z",
     "end_time": "2023-05-22T20:52:03.391464Z"
    }
   }
  },
  {
   "cell_type": "code",
   "execution_count": 63,
   "outputs": [
    {
     "data": {
      "text/plain": "array([[2.34999712e-01, 7.65000288e-01],\n       [3.19522100e-03, 9.96804779e-01],\n       [2.66893040e-02, 9.73310696e-01],\n       [2.35625538e-03, 9.97643745e-01],\n       [9.99717990e-01, 2.82009766e-04],\n       [9.97005819e-01, 2.99418058e-03],\n       [9.45704708e-01, 5.42952920e-02],\n       [9.63007811e-01, 3.69921893e-02],\n       [9.63717466e-02, 9.03628253e-01],\n       [9.52246257e-01, 4.77537427e-02],\n       [4.97475193e-02, 9.50252481e-01],\n       [9.99324217e-01, 6.75783059e-04],\n       [3.97499316e-02, 9.60250068e-01],\n       [1.54855798e-01, 8.45144202e-01],\n       [2.76157422e-01, 7.23842578e-01],\n       [3.14216130e-02, 9.68578387e-01],\n       [4.89509965e-02, 9.51049003e-01],\n       [1.29901138e-02, 9.87009886e-01],\n       [9.99999834e-01, 1.66371754e-07],\n       [3.32327650e-04, 9.99667672e-01],\n       [4.09725647e-01, 5.90274353e-01],\n       [2.93271369e-02, 9.70672863e-01],\n       [5.14083289e-03, 9.94859167e-01],\n       [4.70736041e-03, 9.95292640e-01],\n       [6.25086921e-02, 9.37491308e-01],\n       [1.11800361e-02, 9.88819964e-01],\n       [9.99993827e-01, 6.17291126e-06],\n       [2.47491910e-02, 9.75250809e-01],\n       [3.97354170e-04, 9.99602646e-01],\n       [1.07189000e-01, 8.92811000e-01],\n       [7.36502977e-03, 9.92634970e-01],\n       [3.88857020e-02, 9.61114298e-01],\n       [1.21194530e-02, 9.87880547e-01],\n       [1.75229380e-03, 9.98247706e-01],\n       [2.65557409e-04, 9.99734443e-01],\n       [1.66570842e-01, 8.33429158e-01],\n       [9.99987955e-01, 1.20447095e-05],\n       [1.00442492e-02, 9.89955751e-01],\n       [9.90186026e-01, 9.81397448e-03],\n       [9.99999138e-01, 8.62293476e-07],\n       [4.12955411e-04, 9.99587045e-01],\n       [6.70540988e-02, 9.32945901e-01],\n       [4.74613737e-03, 9.95253863e-01],\n       [9.78162944e-01, 2.18370556e-02],\n       [5.03321960e-03, 9.94966780e-01],\n       [7.05482565e-01, 2.94517435e-01],\n       [3.57464473e-01, 6.42535527e-01],\n       [1.12282136e-02, 9.88771786e-01],\n       [4.74648035e-03, 9.95253520e-01],\n       [5.06517060e-02, 9.49348294e-01],\n       [2.35657312e-04, 9.99764343e-01],\n       [5.03827595e-01, 4.96172405e-01],\n       [1.61012775e-01, 8.38987225e-01],\n       [1.10597930e-02, 9.88940207e-01],\n       [8.79059461e-03, 9.91209405e-01],\n       [9.98808825e-01, 1.19117510e-03],\n       [1.64059726e-01, 8.35940274e-01],\n       [9.99999689e-01, 3.10903783e-07],\n       [6.62976179e-03, 9.93370238e-01],\n       [4.41744700e-03, 9.95582553e-01],\n       [2.42917936e-02, 9.75708206e-01],\n       [2.41455987e-02, 9.75854401e-01],\n       [9.47980664e-01, 5.20193358e-02],\n       [3.50308361e-03, 9.96496916e-01],\n       [3.45055014e-01, 6.54944986e-01],\n       [1.98036840e-01, 8.01963160e-01],\n       [9.41719325e-02, 9.05828068e-01],\n       [1.05690299e-02, 9.89430970e-01],\n       [1.30413900e-03, 9.98695861e-01],\n       [4.99181875e-02, 9.50081813e-01],\n       [3.97354170e-04, 9.99602646e-01],\n       [2.02700127e-02, 9.79729987e-01],\n       [1.26989318e-01, 8.73010682e-01],\n       [2.51731177e-04, 9.99748269e-01],\n       [1.00000000e+00, 7.96935330e-29],\n       [1.31571216e-02, 9.86842878e-01],\n       [6.33490993e-01, 3.66509007e-01],\n       [9.99322455e-01, 6.77544570e-04],\n       [9.68587383e-02, 9.03141262e-01],\n       [5.90913757e-01, 4.09086243e-01],\n       [8.33322401e-01, 1.66677599e-01],\n       [9.99939371e-01, 6.06291132e-05],\n       [9.61157138e-02, 9.03884286e-01],\n       [2.61712377e-02, 9.73828762e-01],\n       [4.94385284e-02, 9.50561472e-01],\n       [1.93439016e-01, 8.06560984e-01],\n       [5.06896414e-01, 4.93103586e-01],\n       [9.74874977e-01, 2.51250226e-02],\n       [9.38436810e-02, 9.06156319e-01],\n       [1.48676819e-02, 9.85132318e-01],\n       [4.48676622e-02, 9.55132338e-01],\n       [2.11091823e-02, 9.78890818e-01],\n       [2.24868401e-01, 7.75131599e-01],\n       [3.51714774e-04, 9.99648285e-01],\n       [9.99999999e-01, 5.15554506e-10],\n       [1.35784765e-02, 9.86421523e-01],\n       [5.69406741e-02, 9.43059326e-01],\n       [3.97354170e-04, 9.99602646e-01],\n       [1.15546336e-01, 8.84453664e-01],\n       [1.26453549e-02, 9.87354645e-01],\n       [2.57048829e-04, 9.99742951e-01],\n       [9.42592482e-01, 5.74075175e-02],\n       [3.87276979e-02, 9.61272302e-01],\n       [8.59603501e-04, 9.99140396e-01],\n       [4.37765670e-03, 9.95622343e-01],\n       [3.62352303e-02, 9.63764770e-01],\n       [1.00000000e+00, 2.20118741e-13],\n       [2.62687154e-02, 9.73731285e-01],\n       [7.97658530e-03, 9.92023415e-01],\n       [8.14257327e-03, 9.91857427e-01],\n       [2.90321682e-02, 9.70967832e-01],\n       [1.71173718e-01, 8.28826282e-01],\n       [1.00000000e+00, 2.58393031e-15],\n       [2.53621097e-02, 9.74637890e-01],\n       [3.29804621e-01, 6.70195379e-01],\n       [9.93375159e-01, 6.62484079e-03],\n       [6.82258102e-02, 9.31774190e-01],\n       [1.08273803e-02, 9.89172620e-01],\n       [1.56139517e-02, 9.84386048e-01],\n       [6.11865095e-03, 9.93881349e-01],\n       [2.67760102e-01, 7.32239898e-01],\n       [9.99978819e-01, 2.11807577e-05],\n       [9.98969600e-01, 1.03039969e-03],\n       [4.70455137e-03, 9.95295449e-01],\n       [6.54805155e-02, 9.34519484e-01],\n       [1.00000000e+00, 3.36287621e-11],\n       [5.46657782e-02, 9.45334222e-01],\n       [9.97679771e-01, 2.32022943e-03],\n       [1.48178813e-02, 9.85182119e-01],\n       [7.46222227e-02, 9.25377777e-01],\n       [3.45414197e-02, 9.65458580e-01],\n       [2.35659475e-01, 7.64340525e-01],\n       [6.07796673e-03, 9.93922033e-01],\n       [1.34054102e-01, 8.65945898e-01],\n       [1.17561943e-04, 9.99882438e-01],\n       [7.09646725e-02, 9.29035328e-01],\n       [7.61124191e-01, 2.38875809e-01],\n       [7.29635537e-02, 9.27036446e-01],\n       [5.04305560e-01, 4.95694440e-01],\n       [1.64698705e-02, 9.83530130e-01],\n       [2.11628399e-02, 9.78837160e-01],\n       [8.48648400e-01, 1.51351600e-01],\n       [6.90101902e-03, 9.93098981e-01],\n       [9.99996894e-01, 3.10561562e-06],\n       [1.00000000e+00, 1.11084902e-16],\n       [3.96569427e-01, 6.03430573e-01],\n       [7.23574166e-01, 2.76425834e-01],\n       [2.68896530e-01, 7.31103470e-01],\n       [2.51465048e-04, 9.99748535e-01],\n       [1.53094168e-01, 8.46905832e-01],\n       [1.83731394e-02, 9.81626861e-01],\n       [3.16204877e-02, 9.68379512e-01],\n       [3.97354170e-04, 9.99602646e-01],\n       [9.99747066e-01, 2.52934190e-04],\n       [3.01758147e-01, 6.98241853e-01],\n       [8.44638917e-01, 1.55361083e-01],\n       [3.75407280e-02, 9.62459272e-01],\n       [1.50639673e-02, 9.84936033e-01],\n       [1.21993646e-02, 9.87800635e-01],\n       [3.76624062e-04, 9.99623376e-01],\n       [1.76306133e-02, 9.82369387e-01],\n       [3.97354170e-04, 9.99602646e-01],\n       [6.59375251e-02, 9.34062475e-01],\n       [8.00037186e-03, 9.91999628e-01],\n       [3.32253705e-04, 9.99667746e-01],\n       [9.99999972e-01, 2.82619759e-08],\n       [8.90688127e-03, 9.91093119e-01],\n       [1.00000000e+00, 3.22212968e-15],\n       [1.00000000e+00, 2.97626999e-24],\n       [1.12831222e-01, 8.87168778e-01],\n       [1.79390250e-02, 9.82060975e-01],\n       [5.72659489e-02, 9.42734051e-01],\n       [3.97354170e-04, 9.99602646e-01],\n       [9.38849963e-01, 6.11500372e-02],\n       [9.77030390e-01, 2.29696098e-02],\n       [2.51731177e-04, 9.99748269e-01],\n       [9.00416394e-01, 9.95836056e-02],\n       [6.33265118e-01, 3.66734882e-01],\n       [3.97354170e-04, 9.99602646e-01],\n       [9.03846146e-03, 9.90961539e-01],\n       [3.81958577e-03, 9.96180414e-01],\n       [2.43800482e-02, 9.75619952e-01],\n       [1.99050990e-02, 9.80094901e-01],\n       [9.99835224e-01, 1.64776067e-04],\n       [1.54986047e-02, 9.84501395e-01],\n       [2.57745016e-04, 9.99742255e-01],\n       [1.25566555e-02, 9.87443345e-01],\n       [3.76768750e-02, 9.62323125e-01],\n       [4.76973791e-03, 9.95230262e-01],\n       [4.57165486e-02, 9.54283451e-01],\n       [9.24101277e-01, 7.58987230e-02],\n       [9.92748692e-01, 7.25130752e-03],\n       [2.22168195e-01, 7.77831805e-01],\n       [1.79576058e-02, 9.82042394e-01],\n       [6.64505076e-03, 9.93354949e-01],\n       [1.24471605e-02, 9.87552839e-01],\n       [1.51257939e-04, 9.99848742e-01],\n       [7.83472828e-01, 2.16527172e-01],\n       [5.72231430e-01, 4.27768570e-01],\n       [2.59914059e-02, 9.74008594e-01],\n       [2.65236630e-01, 7.34763370e-01],\n       [4.10163570e-01, 5.89836430e-01],\n       [8.32578593e-04, 9.99167421e-01],\n       [5.68089889e-03, 9.94319101e-01],\n       [1.13287068e-02, 9.88671293e-01],\n       [2.50491256e-02, 9.74950874e-01],\n       [8.38736924e-03, 9.91612631e-01],\n       [1.72645813e-02, 9.82735419e-01],\n       [8.49224948e-01, 1.50775052e-01],\n       [5.91983003e-03, 9.94080170e-01],\n       [2.19237573e-02, 9.78076243e-01],\n       [5.91393538e-03, 9.94086065e-01],\n       [4.03875816e-01, 5.96124184e-01],\n       [9.99999997e-01, 2.89910702e-09],\n       [8.68388521e-02, 9.13161148e-01],\n       [1.66016324e-02, 9.83398368e-01],\n       [9.99998196e-01, 1.80410347e-06],\n       [1.90377918e-02, 9.80962208e-01],\n       [2.49622633e-02, 9.75037737e-01],\n       [9.99998744e-01, 1.25637204e-06],\n       [7.37704493e-01, 2.62295507e-01],\n       [2.62946848e-04, 9.99737053e-01],\n       [2.78506687e-02, 9.72149331e-01],\n       [9.99241556e-01, 7.58443765e-04],\n       [2.89972675e-02, 9.71002732e-01],\n       [2.10030755e-04, 9.99789969e-01],\n       [1.52100860e-01, 8.47899140e-01],\n       [9.74196202e-01, 2.58037980e-02],\n       [1.45307674e-02, 9.85469233e-01],\n       [5.75005981e-02, 9.42499402e-01],\n       [1.71918270e-01, 8.28081730e-01],\n       [9.99999968e-01, 3.23160407e-08],\n       [1.85805284e-01, 8.14194716e-01],\n       [9.92370627e-01, 7.62937284e-03],\n       [2.52756875e-04, 9.99747243e-01],\n       [4.50734210e-03, 9.95492658e-01],\n       [9.58429829e-03, 9.90415702e-01],\n       [9.95422863e-01, 4.57713694e-03],\n       [9.99998157e-01, 1.84335884e-06]])"
     },
     "execution_count": 63,
     "metadata": {},
     "output_type": "execute_result"
    }
   ],
   "source": [
    "# Train a classifier with the whole training data\n",
    "clf = GaussianNB()\n",
    "clf.fit(X_train, y_train)\n",
    "# Obtain probabilities for data on test set\n",
    "probs = clf.predict_proba(X_test)\n",
    "# Generate predictions using probabilities and threshold found on 10 folds cross-validation\n",
    "probs"
   ],
   "metadata": {
    "collapsed": false,
    "ExecuteTime": {
     "start_time": "2023-05-22T20:52:04.257562Z",
     "end_time": "2023-05-22T20:52:04.311640Z"
    }
   }
  },
  {
   "cell_type": "code",
   "execution_count": 66,
   "outputs": [
    {
     "name": "stdout",
     "output_type": "stream",
     "text": [
      "[[ 55  35]\n",
      " [  7 142]]\n"
     ]
    },
    {
     "data": {
      "text/plain": "<Figure size 250x250 with 1 Axes>",
      "image/png": "[encoded data removed]"
     },
     "metadata": {},
     "output_type": "display_data"
    },
    {
     "name": "stdout",
     "output_type": "stream",
     "text": [
      "0.8242677824267782\n",
      "              precision    recall  f1-score   support\n",
      "\n",
      "           0       0.89      0.61      0.72        90\n",
      "           1       0.80      0.95      0.87       149\n",
      "\n",
      "    accuracy                           0.82       239\n",
      "   macro avg       0.84      0.78      0.80       239\n",
      "weighted avg       0.83      0.82      0.82       239\n",
      "\n"
     ]
    }
   ],
   "source": [
    "pred = filterp(thdef,probs[:,1])\n",
    "# Print results with this prediction vector\n",
    "print(confusion_matrix(y_test, pred))\n",
    "confmat = sklearn.metrics.confusion_matrix(y_test, pred)\n",
    "\n",
    "fig, ax = plt.subplots(figsize=(2.5, 2.5))\n",
    "ax.matshow(confmat, cmap=plt.cm.Blues, alpha=0.3)\n",
    "for i in range(confmat.shape[0]):\n",
    "    for j in range(confmat.shape[1]):\n",
    "        ax.text(x=j, y=i, s=confmat[i, j], va='center', ha='center',fontsize=10)\n",
    "\n",
    "plt.xlabel('Predicted label')\n",
    "plt.ylabel('True label')\n",
    "\n",
    "plt.tight_layout()\n",
    "plt.savefig('ConMatrixNB_fit_thres.png', dpi=600)\n",
    "plt.show()\n",
    "print(accuracy_score(y_test, pred))\n",
    "print(classification_report(y_test, pred))\n",
    "\n",
    "# Ignore warnings explaining that in some iterations f1 score is 0"
   ],
   "metadata": {
    "collapsed": false,
    "ExecuteTime": {
     "start_time": "2023-05-22T20:52:59.899989Z",
     "end_time": "2023-05-22T20:53:00.250220Z"
    }
   }
  },
  {
   "cell_type": "markdown",
   "source": [
    "### Normal dataset fit (testing)"
   ],
   "metadata": {
    "collapsed": false
   }
  },
  {
   "cell_type": "code",
   "execution_count": 67,
   "outputs": [
    {
     "name": "stdout",
     "output_type": "stream",
     "text": [
      "[[ 55  35]\n",
      " [ 10 139]]\n"
     ]
    },
    {
     "data": {
      "text/plain": "<Figure size 250x250 with 1 Axes>",
      "image/png": "[encoded data removed]"
     },
     "metadata": {},
     "output_type": "display_data"
    },
    {
     "name": "stdout",
     "output_type": "stream",
     "text": [
      "0.8117154811715481\n",
      "              precision    recall  f1-score   support\n",
      "\n",
      "           0       0.85      0.61      0.71        90\n",
      "           1       0.80      0.93      0.86       149\n",
      "\n",
      "    accuracy                           0.81       239\n",
      "   macro avg       0.82      0.77      0.79       239\n",
      "weighted avg       0.82      0.81      0.80       239\n",
      "\n"
     ]
    }
   ],
   "source": [
    "clf = GaussianNB()\n",
    "clf.fit(X_train, y_train)\n",
    "pred = clf.predict(X_test)\n",
    "print(confusion_matrix(y_test, pred))\n",
    "confmat = sklearn.metrics.confusion_matrix(y_test, pred)\n",
    "\n",
    "fig, ax = plt.subplots(figsize=(2.5, 2.5))\n",
    "ax.matshow(confmat, cmap=plt.cm.Blues, alpha=0.3)\n",
    "for i in range(confmat.shape[0]):\n",
    "    for j in range(confmat.shape[1]):\n",
    "        ax.text(x=j, y=i, s=confmat[i, j], va='center', ha='center',fontsize=10)\n",
    "\n",
    "plt.xlabel('Predicted label')\n",
    "plt.ylabel('True label')\n",
    "\n",
    "plt.tight_layout()\n",
    "plt.savefig('ConMatrixNB_fit.png', dpi=600)\n",
    "plt.show()\n",
    "print(accuracy_score(y_test, pred))\n",
    "print(classification_report(y_test, pred))"
   ],
   "metadata": {
    "collapsed": false,
    "ExecuteTime": {
     "start_time": "2023-05-22T20:53:08.872399Z",
     "end_time": "2023-05-22T20:53:09.170802Z"
    }
   }
  },
  {
   "cell_type": "markdown",
   "source": [],
   "metadata": {
    "collapsed": false
   }
  },
  {
   "cell_type": "markdown",
   "source": [
    "### Balanced dataset"
   ],
   "metadata": {
    "collapsed": false
   }
  },
  {
   "cell_type": "code",
   "execution_count": 68,
   "outputs": [
    {
     "name": "stdout",
     "output_type": "stream",
     "text": [
      "(564, 8)\n",
      "(564,)\n"
     ]
    }
   ],
   "source": [
    "url = \"../data/final_data_balanced.csv\"\n",
    "df2= pd.read_csv(url)\n",
    "\n",
    "X = df2.drop('Proximity', axis=1)\n",
    "y = df2['Proximity']\n",
    "\n",
    "print(X.shape)\n",
    "print(y.shape)\n",
    "(X_train_b, X_test_b,  y_train_b, y_test_b) = train_test_split(X, y, test_size=.3, random_state=5)"
   ],
   "metadata": {
    "collapsed": false,
    "ExecuteTime": {
     "start_time": "2023-05-22T20:53:13.205098Z",
     "end_time": "2023-05-22T20:53:13.237602Z"
    }
   }
  },
  {
   "cell_type": "markdown",
   "source": [
    "## Fit"
   ],
   "metadata": {
    "collapsed": false
   }
  },
  {
   "cell_type": "code",
   "execution_count": 69,
   "outputs": [
    {
     "name": "stdout",
     "output_type": "stream",
     "text": [
      "[[48 23]\n",
      " [ 6 93]]\n"
     ]
    },
    {
     "data": {
      "text/plain": "<Figure size 250x250 with 1 Axes>",
      "image/png": "[encoded data removed]"
     },
     "metadata": {},
     "output_type": "display_data"
    },
    {
     "name": "stdout",
     "output_type": "stream",
     "text": [
      "0.8294117647058824\n",
      "              precision    recall  f1-score   support\n",
      "\n",
      "           0       0.89      0.68      0.77        71\n",
      "           1       0.80      0.94      0.87        99\n",
      "\n",
      "    accuracy                           0.83       170\n",
      "   macro avg       0.85      0.81      0.82       170\n",
      "weighted avg       0.84      0.83      0.82       170\n",
      "\n"
     ]
    }
   ],
   "source": [
    "clf = GaussianNB()\n",
    "\n",
    "clf.fit(X_train_b,y_train_b)\n",
    "\n",
    "y_pred_b = clf.predict(X_test_b)\n",
    "\n",
    "print(confusion_matrix(y_test_b, y_pred_b))\n",
    "confmat = sklearn.metrics.confusion_matrix(y_test_b, y_pred_b)\n",
    "\n",
    "fig, ax = plt.subplots(figsize=(2.5, 2.5))\n",
    "ax.matshow(confmat, cmap=plt.cm.Blues, alpha=0.3)\n",
    "for i in range(confmat.shape[0]):\n",
    "    for j in range(confmat.shape[1]):\n",
    "        ax.text(x=j, y=i, s=confmat[i, j], va='center', ha='center',fontsize=10)\n",
    "\n",
    "plt.xlabel('Predicted label')\n",
    "plt.ylabel('True label')\n",
    "\n",
    "plt.tight_layout()\n",
    "plt.savefig('ConMatrixNB2_fit.png', dpi=600)\n",
    "plt.show()\n",
    "\n",
    "print(accuracy_score(y_test_b, y_pred_b))\n",
    "print(classification_report(y_test_b, y_pred_b))"
   ],
   "metadata": {
    "collapsed": false,
    "ExecuteTime": {
     "start_time": "2023-05-22T20:53:16.559994Z",
     "end_time": "2023-05-22T20:53:16.967873Z"
    }
   }
  },
  {
   "cell_type": "markdown",
   "source": [
    "## Cross"
   ],
   "metadata": {
    "collapsed": false
   }
  },
  {
   "cell_type": "code",
   "execution_count": 70,
   "outputs": [
    {
     "name": "stdout",
     "output_type": "stream",
     "text": [
      "[[183  99]\n",
      " [ 33 249]]\n",
      "0.7659574468085106\n"
     ]
    },
    {
     "data": {
      "text/plain": "<Figure size 250x250 with 1 Axes>",
      "image/png": "[encoded data removed]"
     },
     "metadata": {},
     "output_type": "display_data"
    },
    {
     "name": "stdout",
     "output_type": "stream",
     "text": [
      "              precision    recall  f1-score   support\n",
      "\n",
      "           0       0.85      0.65      0.73       282\n",
      "           1       0.72      0.88      0.79       282\n",
      "\n",
      "    accuracy                           0.77       564\n",
      "   macro avg       0.78      0.77      0.76       564\n",
      "weighted avg       0.78      0.77      0.76       564\n",
      "\n"
     ]
    }
   ],
   "source": [
    "cv = StratifiedKFold(n_splits=10, shuffle=True, random_state=5)\n",
    "\n",
    "gnb = GaussianNB()\n",
    "cv_scores = cross_val_score(gnb,X=X,y=y,cv=cv)\n",
    "np.mean(cv_scores)\n",
    "\n",
    "predicted = cross_val_predict(GaussianNB(), X=X, y=y,  cv=cv)\n",
    "\n",
    "print(confusion_matrix(y, predicted))\n",
    "print(accuracy_score(y, predicted))\n",
    "\n",
    "confmat = sklearn.metrics.confusion_matrix(y, predicted)\n",
    "\n",
    "fig, ax = plt.subplots(figsize=(2.5, 2.5))\n",
    "ax.matshow(confmat, cmap=plt.cm.Blues, alpha=0.3)\n",
    "for i in range(confmat.shape[0]):\n",
    "    for j in range(confmat.shape[1]):\n",
    "        ax.text(x=j, y=i, s=confmat[i, j], va='center', ha='center',fontsize=10)\n",
    "\n",
    "plt.xlabel('Predicted label')\n",
    "plt.ylabel('True label')\n",
    "\n",
    "plt.tight_layout()\n",
    "plt.savefig('ConMatrixNB2_cross.png', dpi=600)\n",
    "plt.show()\n",
    "\n",
    "print(classification_report(y, predicted))"
   ],
   "metadata": {
    "collapsed": false,
    "ExecuteTime": {
     "start_time": "2023-05-22T20:53:19.994362Z",
     "end_time": "2023-05-22T20:53:20.333232Z"
    }
   }
  },
  {
   "cell_type": "markdown",
   "source": [
    "### Unbalanced dataset"
   ],
   "metadata": {
    "collapsed": false
   }
  },
  {
   "cell_type": "code",
   "execution_count": 71,
   "outputs": [
    {
     "name": "stdout",
     "output_type": "stream",
     "text": [
      "(794, 8)\n",
      "(794,)\n"
     ]
    }
   ],
   "source": [
    "url = \"final_data.csv\"\n",
    "df3= pd.read_csv(url)\n",
    "\n",
    "X = df3.drop('Proximity', axis=1)\n",
    "y = df3['Proximity']\n",
    "\n",
    "print(X.shape)\n",
    "print(y.shape)\n",
    "(X_train_a, X_test_a,  y_train_a, y_test_a) = train_test_split(X, y, test_size=.3, random_state=5)"
   ],
   "metadata": {
    "collapsed": false,
    "ExecuteTime": {
     "start_time": "2023-05-22T20:53:22.896302Z",
     "end_time": "2023-05-22T20:53:22.916834Z"
    }
   }
  },
  {
   "cell_type": "markdown",
   "source": [
    "## Fit"
   ],
   "metadata": {
    "collapsed": false
   }
  },
  {
   "cell_type": "code",
   "execution_count": 72,
   "outputs": [
    {
     "name": "stdout",
     "output_type": "stream",
     "text": [
      "[[ 55  35]\n",
      " [ 10 139]]\n"
     ]
    },
    {
     "data": {
      "text/plain": "<Figure size 250x250 with 1 Axes>",
      "image/png": "[encoded data removed]"
     },
     "metadata": {},
     "output_type": "display_data"
    },
    {
     "name": "stdout",
     "output_type": "stream",
     "text": [
      "0.8117154811715481\n",
      "              precision    recall  f1-score   support\n",
      "\n",
      "           0       0.85      0.61      0.71        90\n",
      "           1       0.80      0.93      0.86       149\n",
      "\n",
      "    accuracy                           0.81       239\n",
      "   macro avg       0.82      0.77      0.79       239\n",
      "weighted avg       0.82      0.81      0.80       239\n",
      "\n"
     ]
    }
   ],
   "source": [
    "clf = GaussianNB()\n",
    "\n",
    "clf.fit(X_train_a,y_train_a)\n",
    "\n",
    "y_pred_a = clf.predict(X_test_a)\n",
    "\n",
    "print(confusion_matrix(y_test_a, y_pred_a))\n",
    "confmat = sklearn.metrics.confusion_matrix(y_test_a, y_pred_a)\n",
    "\n",
    "fig, ax = plt.subplots(figsize=(2.5, 2.5))\n",
    "ax.matshow(confmat, cmap=plt.cm.Blues, alpha=0.3)\n",
    "for i in range(confmat.shape[0]):\n",
    "    for j in range(confmat.shape[1]):\n",
    "        ax.text(x=j, y=i, s=confmat[i, j], va='center', ha='center',fontsize=10)\n",
    "\n",
    "plt.xlabel('Predicted label')\n",
    "plt.ylabel('True label')\n",
    "\n",
    "plt.tight_layout()\n",
    "plt.savefig('ConMatrixNB_fit.png', dpi=600)\n",
    "plt.show()\n",
    "\n",
    "print(accuracy_score(y_test_a, y_pred_a))\n",
    "print(classification_report(y_test_a, y_pred_a))"
   ],
   "metadata": {
    "collapsed": false,
    "ExecuteTime": {
     "start_time": "2023-05-22T20:53:24.981961Z",
     "end_time": "2023-05-22T20:53:25.340104Z"
    }
   }
  },
  {
   "cell_type": "markdown",
   "source": [
    "## Cross"
   ],
   "metadata": {
    "collapsed": false
   }
  },
  {
   "cell_type": "code",
   "execution_count": 77,
   "outputs": [
    {
     "name": "stdout",
     "output_type": "stream",
     "text": [
      "[[169 113]\n",
      " [ 52 460]]\n",
      "0.792191435768262\n"
     ]
    },
    {
     "data": {
      "text/plain": "<Figure size 250x250 with 1 Axes>",
      "image/png": "[encoded data removed]"
     },
     "metadata": {},
     "output_type": "display_data"
    },
    {
     "name": "stdout",
     "output_type": "stream",
     "text": [
      "              precision    recall  f1-score   support\n",
      "\n",
      "           0       0.76      0.60      0.67       282\n",
      "           1       0.80      0.90      0.85       512\n",
      "\n",
      "    accuracy                           0.79       794\n",
      "   macro avg       0.78      0.75      0.76       794\n",
      "weighted avg       0.79      0.79      0.79       794\n",
      "\n"
     ]
    }
   ],
   "source": [
    "cv = StratifiedKFold(n_splits=10, shuffle=True, random_state=5)\n",
    "\n",
    "gnb = GaussianNB()\n",
    "cv_scores = cross_val_score(gnb,X=X,y=y,cv=cv)\n",
    "np.mean(cv_scores)\n",
    "\n",
    "predicted = cross_val_predict(GaussianNB(), X=X, y=y,  cv=cv)\n",
    "\n",
    "print(confusion_matrix(y, predicted))\n",
    "print(accuracy_score(y, predicted))\n",
    "\n",
    "confmat = sklearn.metrics.confusion_matrix(y, predicted)\n",
    "\n",
    "fig, ax = plt.subplots(figsize=(2.5, 2.5))\n",
    "ax.matshow(confmat, cmap=plt.cm.Blues, alpha=0.3)\n",
    "for i in range(confmat.shape[0]):\n",
    "    for j in range(confmat.shape[1]):\n",
    "        ax.text(x=j, y=i, s=confmat[i, j], va='center', ha='center',fontsize=10)\n",
    "\n",
    "plt.xlabel('Predicted label')\n",
    "plt.ylabel('True label')\n",
    "\n",
    "plt.tight_layout()\n",
    "plt.savefig('ConMatrixNB_cross.png', dpi=600)\n",
    "plt.show()\n",
    "\n",
    "print(classification_report(y, predicted))"
   ],
   "metadata": {
    "collapsed": false,
    "ExecuteTime": {
     "start_time": "2023-05-22T20:58:12.576202Z",
     "end_time": "2023-05-22T20:58:13.015446Z"
    }
   }
  },
  {
   "cell_type": "code",
   "execution_count": 77,
   "outputs": [],
   "source": [],
   "metadata": {
    "collapsed": false,
    "ExecuteTime": {
     "start_time": "2023-05-22T20:58:13.018769Z",
     "end_time": "2023-05-22T20:58:13.090307Z"
    }
   }
  },
  {
   "cell_type": "code",
   "execution_count": null,
   "outputs": [],
   "source": [],
   "metadata": {
    "collapsed": false
   }
  }
 ],
 "metadata": {
  "kernelspec": {
   "display_name": "Python 3",
   "language": "python",
   "name": "python3"
  },
  "language_info": {
   "codemirror_mode": {
    "name": "ipython",
    "version": 2
   },
   "file_extension": ".py",
   "mimetype": "text/x-python",
   "name": "python",
   "nbconvert_exporter": "python",
   "pygments_lexer": "ipython2",
   "version": "2.7.6"
  }
 },
 "nbformat": 4,
 "nbformat_minor": 0
}
